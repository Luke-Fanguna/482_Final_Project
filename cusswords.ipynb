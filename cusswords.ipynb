{
 "cells": [
  {
   "cell_type": "code",
   "execution_count": 26,
   "id": "19e948edd5608b89",
   "metadata": {},
   "outputs": [],
   "source": [
    "import pandas as pd\n",
    "import nltk"
   ]
  },
  {
   "cell_type": "code",
   "execution_count": 27,
   "id": "97e07670-a9a3-4611-bed5-5894e1dfaf34",
   "metadata": {},
   "outputs": [],
   "source": [
    "def all_swear_words() -> set:\n",
    "    # imports swear_words.txt file to a set datastructure\n",
    "    words = set()\n",
    "    with open(\"swear_words.txt\", \"r\") as file:\n",
    "        for line in file:\n",
    "            words.add(line.strip())\n",
    "    return words\n",
    "\n",
    "def read_speeches() -> pd.DataFrame:\n",
    "    # reads speeches.csv for analysis, which has already been preprocessed\n",
    "    return pd.read_csv('speeches.csv').dropna()\n",
    "\n",
    "def find_cusswords(discussion : pd.DataFrame) -> int:\n",
    "    # phenom for finding cusswords\n",
    "    # discussion: dataframe containing utterances within a speech\n",
    "    cusswords = all_swear_words()\n",
    "    occurence = 0\n",
    "    for index, utterance in enumerate(discussion['text']):\n",
    "        words = set(nltk.word_tokenize(utterance))\n",
    "        if len(cusswords & words) < len(words):\n",
    "            occurence += 1\n",
    "            print('Found:', cusswords & words, discussion['hid'][index])\n",
    "    return occurence"
   ]
  },
  {
   "cell_type": "code",
   "execution_count": 28,
   "id": "e30d73e3-e864-41b7-bba7-764355f35294",
   "metadata": {},
   "outputs": [],
   "source": [
    "data = read_speeches()"
   ]
  }
 ],
 "metadata": {
  "kernelspec": {
   "display_name": "Python 3 (ipykernel)",
   "language": "python",
   "name": "python3"
  },
  "language_info": {
   "codemirror_mode": {
    "name": "ipython",
    "version": 3
   },
   "file_extension": ".py",
   "mimetype": "text/x-python",
   "name": "python",
   "nbconvert_exporter": "python",
   "pygments_lexer": "ipython3",
   "version": "3.11.5"
  }
 },
 "nbformat": 4,
 "nbformat_minor": 5
}
